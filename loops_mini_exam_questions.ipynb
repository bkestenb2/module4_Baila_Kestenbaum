{
  "cells": [
    {
      "cell_type": "markdown",
      "id": "6e143f87",
      "metadata": {
        "id": "6e143f87"
      },
      "source": [
        "# Intro Loops Mini‑Exam — All Coding (5 Questions)\n",
        "**Topics:** `for`, `while`, `range`, `break`, `continue`, basic `if/else`, optional `try/except`\n",
        "\n",
        "### Rules\n",
        "- Use `range` where helpful.\n",
        "- **Do not use** `enumerate`, list comprehensions, or **nested loops**.\n",
        "- You may use simple `try/except` for input validation where the prompt asks for it.\n",
        "- Keep code clear and commented (brief intent comments are enough).\n",
        "\n",
        "### What to Submit\n",
        "- Complete the five problems below in the provided code cells.\n",
        "- Do **not** modify the problem statements.\n",
        "- Run each cell to ensure it executes (no crashes on valid inputs).\n",
        "\n",
        "### Academic Honesty\n",
        "- Write your own code. Keep solutions simple and readable.\n"
      ]
    },
    {
      "cell_type": "markdown",
      "id": "b26ce537",
      "metadata": {
        "id": "b26ce537"
      },
      "source": [
        "## 1) Count Up (for + range)\n",
        "Ask the user for a **positive integer `n`**. Print the numbers **1..n** on **one line** separated by spaces.\n",
        "- Use a `for` loop with `range`.\n",
        "- If the input isn’t a positive integer, print a friendly error and stop.\n"
      ]
    },
    {
      "cell_type": "code",
      "execution_count": 7,
      "id": "238370a9",
      "metadata": {
        "id": "238370a9",
        "problem": 1,
        "outputId": "de38931e-29b3-40e4-fc7c-60ced8627b5a",
        "colab": {
          "base_uri": "https://localhost:8080/"
        }
      },
      "outputs": [
        {
          "output_type": "stream",
          "name": "stdout",
          "text": [
            "Please enter a positive integer: 9\n",
            "1 2 3 4 5 6 7 8 9 "
          ]
        }
      ],
      "source": [
        "# Write your solution here\n",
        "n = int(input(\"Please enter a positive integer: \"))\n",
        "if n <= 0:\n",
        "    print(\"Please enter a positive integer\")\n",
        "else:\n",
        "    for i in range (1, n +1):\n",
        "        print (i, end= \" \")"
      ]
    },
    {
      "cell_type": "markdown",
      "id": "2afee823",
      "metadata": {
        "id": "2afee823"
      },
      "source": [
        "## 2) Sum of Squares (for)\n",
        "Ask for a **positive integer `n`**. Compute and print **`1^2 + 2^2 + … + n^2`**.\n",
        "- Use a `for` loop.\n",
        "- Validate input (print an error and stop if invalid).\n"
      ]
    },
    {
      "cell_type": "code",
      "execution_count": 12,
      "id": "0f0ed988",
      "metadata": {
        "id": "0f0ed988",
        "problem": 2,
        "outputId": "ab827544-3113-4cf9-e011-e530c878e35c",
        "colab": {
          "base_uri": "https://localhost:8080/"
        }
      },
      "outputs": [
        {
          "output_type": "stream",
          "name": "stdout",
          "text": [
            "Please enter a positive integer: 7\n",
            "Computing: 1^2 + 2^2 + 3^2 + 4^2 + 5^2 + 6^2 + 7^2  = 140\n"
          ]
        }
      ],
      "source": [
        "# Write your solution here\n",
        "try:\n",
        "    n = int(input(\"Please enter a positive integer: \"))\n",
        "    if n <= 0:\n",
        "        print(\"Please enter a positive integer.\")\n",
        "    else:\n",
        "        total = 0\n",
        "        print(\"Computing:\", end=\" \")\n",
        "        for i in range(1, n + 1):\n",
        "            total += i ** 2\n",
        "            if i < n:\n",
        "                print(f\"{i}^2 +\", end=\" \")\n",
        "            else:\n",
        "                print(f\"{i}^2\", end=\" \")\n",
        "        print(f\" = {total}\")\n",
        "except ValueError:\n",
        "    print(\"You must enter an integer.\")"
      ]
    },
    {
      "cell_type": "markdown",
      "id": "13dd0fd1",
      "metadata": {
        "id": "13dd0fd1"
      },
      "source": [
        "## 3) Min/Max with “done” (while + try/except)\n",
        "Repeatedly read integers until the user types **`done`**. Ignore invalid entries with a warning.\n",
        "At the end:\n",
        "- If at least one valid number was entered, print `min = ___, max = ___`.\n",
        "- Otherwise print `No numbers entered.`\n",
        "- Use a `while True:` loop and `break` on `'done'`.\n"
      ]
    },
    {
      "cell_type": "code",
      "execution_count": 14,
      "id": "e8afc3b3",
      "metadata": {
        "id": "e8afc3b3",
        "problem": 3,
        "outputId": "6711ecd8-7fbc-46ef-f1fe-c42076e6cab1",
        "colab": {
          "base_uri": "https://localhost:8080/"
        }
      },
      "outputs": [
        {
          "output_type": "stream",
          "name": "stdout",
          "text": [
            "Please enter an integer or 'done' to finish: \n",
            "Invalid input\n",
            "Please enter an integer or 'done' to finish: 8\n",
            "Please enter an integer or 'done' to finish: 3\n",
            "Please enter an integer or 'done' to finish: 90\n",
            "Please enter an integer or 'done' to finish: 27\n",
            "Please enter an integer or 'done' to finish: done\n",
            "min = 3, max = 90\n"
          ]
        }
      ],
      "source": [
        "# Write your solution here\n",
        "min = None\n",
        "max = None\n",
        "\n",
        "while True:\n",
        "    user_input = input(\"Please enter an integer or 'done' to finish: \")\n",
        "\n",
        "    if user_input == \"done\":\n",
        "        break\n",
        "\n",
        "    try:\n",
        "        num = int(user_input)\n",
        "        if min is None or num < min:\n",
        "            min = num\n",
        "        if max is None or num > max:\n",
        "            max = num\n",
        "    except ValueError:\n",
        "        print (\"Invalid input\")\n",
        "\n",
        "if min is not None and max is not None:\n",
        "    print (f\"min = {min}, max = {max}\")\n",
        "else:\n",
        "    print (\"No numbers entered\")"
      ]
    },
    {
      "cell_type": "markdown",
      "id": "950eed12",
      "metadata": {
        "id": "950eed12"
      },
      "source": [
        "## 4) Skip & Stop (for + continue/break)\n",
        "Ask for a **positive integer `n`** (upper bound).\n",
        "- Loop from **1..n**.\n",
        "- **Skip** (do not print) numbers that are multiples of **4** using `continue`.\n",
        "- If you reach **42**, **print 42 and then stop** the loop using `break`.\n",
        "- Each printed number goes on its own line.\n",
        "- Validate input; print an error and stop if invalid.\n"
      ]
    },
    {
      "cell_type": "code",
      "execution_count": 18,
      "id": "cfd13035",
      "metadata": {
        "id": "cfd13035",
        "problem": 4,
        "outputId": "2ba35dc1-fe28-40dc-ce81-938db1d04a95",
        "colab": {
          "base_uri": "https://localhost:8080/"
        }
      },
      "outputs": [
        {
          "output_type": "stream",
          "name": "stdout",
          "text": [
            "Please enter a positive integer (upper bound): 45\n",
            "1\n",
            "2\n",
            "3\n",
            "5\n",
            "6\n",
            "7\n",
            "9\n",
            "10\n",
            "11\n",
            "13\n",
            "14\n",
            "15\n",
            "17\n",
            "18\n",
            "19\n",
            "21\n",
            "22\n",
            "23\n",
            "25\n",
            "26\n",
            "27\n",
            "29\n",
            "30\n",
            "31\n",
            "33\n",
            "34\n",
            "35\n",
            "37\n",
            "38\n",
            "39\n",
            "41\n",
            "42\n"
          ]
        }
      ],
      "source": [
        "# Write your solution here\n",
        "try:\n",
        "    n = int(input(\"Please enter a positive integer (upper bound): \" ))\n",
        "    if n <= 0:\n",
        "        print (\"You must enter a positive integer\")\n",
        "    else:\n",
        "        for i in range (1, n +1 ):\n",
        "            if i % 4 == 0:\n",
        "                continue\n",
        "            print (i)\n",
        "            if i == 42:\n",
        "                break\n",
        "except ValueError:\n",
        "    print (\"Please enter a valid integer\")"
      ]
    },
    {
      "cell_type": "markdown",
      "id": "34d640d5",
      "metadata": {
        "id": "34d640d5"
      },
      "source": [
        "## 5) Even Sum with Entry Limit (while + try/except)\n",
        "Ask for a **target count `k`** (how many entries to read). Then read up to `k` user inputs (one per loop).\n",
        "- Convert each to `int` with `try/except`.\n",
        "- Keep a running **sum of even numbers only** (ignore odds and invalid entries).\n",
        "- After `k` inputs, print `even_sum = ___, valid_evens = ___`.\n",
        "- If `k` isn’t a positive integer, print an error and stop.\n"
      ]
    },
    {
      "cell_type": "code",
      "execution_count": 20,
      "id": "a7717a90",
      "metadata": {
        "id": "a7717a90",
        "problem": 5,
        "outputId": "493f5025-6978-4c59-eaba-03353ab12394",
        "colab": {
          "base_uri": "https://localhost:8080/"
        }
      },
      "outputs": [
        {
          "output_type": "stream",
          "name": "stdout",
          "text": [
            "How many numbers will you input? 8\n",
            "Enter integer #1: 3\n",
            "Enter integer #2: 4\n",
            "Enter integer #3: 90\n",
            "Enter integer #4: 23\n",
            "Enter integer #5: 47\n",
            "Enter integer #6: 65\n",
            "Enter integer #7: 3\n",
            "Enter integer #8: 6\n",
            "even_sum  = 100, valid_evens = 3\n"
          ]
        }
      ],
      "source": [
        "# Write your solution here\n",
        "try:\n",
        "    k = int(input(\"How many numbers will you input? \"))\n",
        "    if k <= 0:\n",
        "        print (\"Please enter a positive number\")\n",
        "    else:\n",
        "        count = 0\n",
        "        even_sum = 0\n",
        "        valid_evens = 0\n",
        "\n",
        "        while count < k:\n",
        "            user_num = input(f\"Enter integer #{count + 1}: \")\n",
        "            try:\n",
        "                num = int(user_num)\n",
        "                if num % 2 == 0:\n",
        "                    even_sum += num\n",
        "                    valid_evens += 1\n",
        "            except ValueError:\n",
        "                print (\"Invalid input\")\n",
        "            count += 1\n",
        "\n",
        "        print (f\"even_sum  = {even_sum}, valid_evens = {valid_evens}\")\n",
        "except ValueError:\n",
        "    print (\"Please enter a valid integer\")"
      ]
    },
    {
      "cell_type": "markdown",
      "source": [
        "## 6)  How long did you work on this quiz ? Was this quiz : hard, easy, just right ?"
      ],
      "metadata": {
        "id": "m9THXy-oU-Ud"
      },
      "id": "m9THXy-oU-Ud"
    },
    {
      "cell_type": "markdown",
      "source": [
        "Answer here : It took me about 2 hours to do the quiz and I found it a little hard"
      ],
      "metadata": {
        "id": "IzQbO93tVKDv"
      },
      "id": "IzQbO93tVKDv"
    }
  ],
  "metadata": {
    "kernelspec": {
      "display_name": "Python 3",
      "language": "python",
      "name": "python3"
    },
    "language_info": {
      "name": "python"
    },
    "colab": {
      "provenance": []
    }
  },
  "nbformat": 4,
  "nbformat_minor": 5
}