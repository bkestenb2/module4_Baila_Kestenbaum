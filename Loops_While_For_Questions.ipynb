{
  "cells": [
    {
      "cell_type": "markdown",
      "id": "7d25b115",
      "metadata": {
        "id": "7d25b115"
      },
      "source": [
        "\n",
        "# While & For Mastery — Syntax, Patterns, and Programs\n",
        "\n",
        "**Name:** _Baila Kestenbaum_  \n",
        "**Course:** _Programming I_  \n",
        "**Date:** 2025-10-04\n",
        "\n",
        "**Learning goals**\n",
        "- Reintroduce the **syntax** and core **patterns** for `while` and `for` loops.\n",
        "- Use loops with **decision structures** (`if/elif/else`) and **`try/except`** for input validation.\n",
        "- Write non-trivial programs that require **reasoning**, not just template filling.\n",
        "- Practice **PEP 8** style: naming, whitespace, docstrings, and helpful comments. - SO PLEASE DO PEP 8 ASSIGNMENT FIRST\n",
        "\n",
        "\n",
        "**IDE usage**\n",
        "- Feel free to work within an IDE (PyCharm or IDLE) if you feel more comfortable, copying and pasting the answers here"
      ]
    },
    {
      "cell_type": "markdown",
      "source": [],
      "metadata": {
        "id": "co4zaM_oHdBi"
      },
      "id": "co4zaM_oHdBi"
    },
    {
      "cell_type": "markdown",
      "id": "02124153",
      "metadata": {
        "id": "02124153"
      },
      "source": [
        "\n",
        "## Part 0 — Quick Reference (Read & Run)\n",
        "\n",
        "### `for` loop (iterate over a sequence)\n",
        "```python\n",
        "for item in iterable:\n",
        "    # do something with item\n",
        "```\n",
        "\n",
        "### `while` loop (repeat until a condition changes)\n",
        "```python\n",
        "while condition:\n",
        "    # body\n",
        "```\n",
        "\n",
        "### Useful keywords\n",
        "- `break` — exit the nearest loop immediately  \n",
        "- `continue` — skip to next iteration  \n",
        "- `else` on loops — runs if the loop **didn't** `break`\n"
      ]
    },
    {
      "cell_type": "markdown",
      "id": "884708c5",
      "metadata": {
        "id": "884708c5"
      },
      "source": [
        "\n",
        "## Demo 1 — `for` Loop Fundamentals\n",
        "- Iterating lists/strings\n",
        "- Using `range(start, stop, step)`\n",
        "- Tracking indices with `enumerate`\n"
      ]
    },
    {
      "cell_type": "code",
      "execution_count": null,
      "id": "a9210b06",
      "metadata": {
        "id": "a9210b06",
        "outputId": "ba3e2cad-ebae-419b-86b7-6eec418f351d",
        "colab": {
          "base_uri": "https://localhost:8080/"
        }
      },
      "outputs": [
        {
          "output_type": "stream",
          "name": "stdout",
          "text": [
            "KOL\n",
            "NIDRE\n",
            "TEFILAH\n",
            "---\n",
            "2 4 6 8 10 \n",
            "---\n",
            "0: kol\n",
            "1: nidre\n",
            "2: tefilah\n"
          ]
        }
      ],
      "source": [
        "\n",
        "words = [\"kol\", \"nidre\", \"tefilah\"]\n",
        "\n",
        "# Basic iteration\n",
        "for w in words:\n",
        "    print(w.upper())\n",
        "\n",
        "print(\"---\")\n",
        "\n",
        "# Ranges\n",
        "for k in range(2, 11, 2):\n",
        "    print(k, end=\" \")\n",
        "print(\"\\n---\")\n",
        "\n",
        "# Enumerate for index + value\n",
        "for i, w in enumerate(words):\n",
        "    print(f\"{i}: {w}\")\n"
      ]
    },
    {
      "cell_type": "markdown",
      "id": "872c060a",
      "metadata": {
        "id": "872c060a"
      },
      "source": [
        "\n",
        "## Demo 2 — `while` Loop Fundamentals\n",
        "- Sentinel loops (stop when user types `done`)\n",
        "- Guarded updates to prevent infinite loops\n"
      ]
    },
    {
      "cell_type": "code",
      "execution_count": null,
      "id": "a16ab540",
      "metadata": {
        "id": "a16ab540",
        "outputId": "189ea405-6119-4d9d-baa2-a955e54ae4ed",
        "colab": {
          "base_uri": "https://localhost:8080/"
        }
      },
      "outputs": [
        {
          "output_type": "stream",
          "name": "stdout",
          "text": [
            "Enter a number (or 'done'): 6\n",
            "Enter a number (or 'done'): 9\n",
            "Enter a number (or 'done'): 0\n",
            "Enter a number (or 'done'): done\n",
            "Average: 5.0\n"
          ]
        }
      ],
      "source": [
        "\n",
        "# Sentinel-controlled input loop\n",
        "# Type numbers; type 'done' to stop. We sum only valid numbers.\n",
        "total = 0.0\n",
        "count = 0\n",
        "\n",
        "while True:\n",
        "    raw = input(\"Enter a number (or 'done'): \").strip().lower()\n",
        "    if raw == \"done\":\n",
        "        break\n",
        "    try:\n",
        "        num = float(raw)\n",
        "    except ValueError:\n",
        "        print(\"Not a number — try again.\")\n",
        "        continue\n",
        "    total += num\n",
        "    count += 1\n",
        "\n",
        "if count > 0:\n",
        "    print(\"Average:\", total / count)\n",
        "else:\n",
        "    print(\"No numbers entered.\")\n"
      ]
    },
    {
      "cell_type": "markdown",
      "id": "4f729477",
      "metadata": {
        "id": "4f729477"
      },
      "source": [
        "\n",
        "## Demo 3 — Try/Except + Decisions in Loops\n",
        "- Validate input in a loop\n",
        "- Use `if/elif/else` for branching behavior\n"
      ]
    },
    {
      "cell_type": "code",
      "execution_count": null,
      "id": "ef5f1557",
      "metadata": {
        "id": "ef5f1557",
        "outputId": "a72103b8-46ed-4da1-df1a-5ff5995fa93f",
        "colab": {
          "base_uri": "https://localhost:8080/"
        }
      },
      "outputs": [
        {
          "output_type": "stream",
          "name": "stdout",
          "text": [
            "Pick an integer from 1 to 10: 7\n",
            "Thanks! You chose: 7\n"
          ]
        }
      ],
      "source": [
        "\n",
        "# Ask for an integer 1..10 with limited attempts.\n",
        "MAX_ATTEMPTS = 3\n",
        "attempts = 0\n",
        "value = None\n",
        "\n",
        "while attempts < MAX_ATTEMPTS:\n",
        "    try:\n",
        "        guess = int(input(\"Pick an integer from 1 to 10: \"))\n",
        "    except ValueError:\n",
        "        print(\"Please enter an integer.\")\n",
        "        attempts += 1\n",
        "        continue\n",
        "\n",
        "    if 1 <= guess <= 10:\n",
        "        value = guess\n",
        "        print(\"Thanks! You chose:\", value)\n",
        "        break\n",
        "    else:\n",
        "        print(\"Out of range.\")\n",
        "        attempts += 1\n",
        "\n",
        "if value is None:\n",
        "    print(\"No valid choice made. Exiting.\")\n"
      ]
    },
    {
      "cell_type": "markdown",
      "id": "4a3c313f",
      "metadata": {
        "id": "4a3c313f"
      },
      "source": [
        "\n",
        "## Patterns & Pitfalls\n",
        "- Prefer `for` for known collections/ranges; `while` for open-ended/state-driven loops.\n",
        "- Always **advance the loop state** in a `while` (avoid infinite loops).\n",
        "- Use **sentinels** like `'done'` to end user input.\n",
        "- Extract **helpers** with docstrings for single-purpose blocks.\n",
        "- Keep lines ≤ 79–99 characters and space around operators appropriately.\n"
      ]
    },
    {
      "cell_type": "markdown",
      "id": "05823ceb",
      "metadata": {
        "id": "05823ceb"
      },
      "source": [
        "\n",
        "## Program 1 — Running Statistics (Sentinel + Validation)\n",
        "\n",
        "**Write:** `stats_loop()` that repeatedly reads numbers from the user until they type `'done'`.  \n",
        "- Use `try/except` to validate input. Ignore invalid entries (warn and continue).  \n",
        "- Track **count, min, max, sum, average**.  \n",
        "- At the end, print a one-line summary like:  \n",
        "  `count=5 min=2.0 max=14.5 sum=33.0 avg=6.6`\n",
        "\n",
        "**Requirements:**\n",
        "- Use a **while loop** with a sentinel.\n",
        "- Use at least one **decision structure** (`if/elif/else`).\n",
        "- Follow **PEP 8** for naming, spacing, and comments.\n"
      ]
    },
    {
      "cell_type": "code",
      "execution_count": null,
      "id": "bc2b0125",
      "metadata": {
        "id": "bc2b0125",
        "outputId": "1636c00c-9668-4968-b78b-9ccb8d8c3bb9",
        "colab": {
          "base_uri": "https://localhost:8080/"
        }
      },
      "outputs": [
        {
          "output_type": "stream",
          "name": "stdout",
          "text": [
            "Enter a number (or 'done'): 9\n",
            "Enter a number (or 'done'): 8\n",
            "Enter a number (or 'done'): 7\n",
            "Enter a number (or 'done'): done\n",
            "count=3 minimum=7.0 maximum=9.0 sum=24.0 avg=8.0\n"
          ]
        }
      ],
      "source": [
        "# Your code here\n",
        "def stats_loop():\n",
        "    total = 0.0\n",
        "    count = 0\n",
        "    minimum = None\n",
        "    maximum = None\n",
        "\n",
        "    while True:\n",
        "        raw = input(\"Enter a number (or 'done'): \").strip().lower()\n",
        "        if raw == \"done\":\n",
        "            break\n",
        "        try:\n",
        "            num = float(raw)\n",
        "        except ValueError:\n",
        "            print(\"Not a number — try again.\")\n",
        "            continue\n",
        "\n",
        "        total += num\n",
        "        count += 1\n",
        "\n",
        "        if count == 1:\n",
        "            minimum = num\n",
        "            maximum = num\n",
        "        else:\n",
        "            if num < minimum:\n",
        "                minimum = num\n",
        "            if num > maximum:\n",
        "                maximum = num\n",
        "\n",
        "    if count > 0:\n",
        "        print(f\"count={count} minimum={minimum} maximum={maximum} sum={total} avg={total / count}\")\n",
        "    else:\n",
        "        print(\"No numbers entered.\")\n",
        "\n",
        "\n",
        "stats_loop()"
      ]
    },
    {
      "cell_type": "markdown",
      "id": "cc1cb2cf",
      "metadata": {
        "id": "cc1cb2cf"
      },
      "source": [
        "\n",
        "## Program 2 — Password Attempts (Decisions + While)\n",
        "\n",
        "**Write:** `login_sim(correct_password: str, max_attempts: int = 3)`  \n",
        "- Prompt until the user enters the correct password or attempts are exhausted.  \n",
        "- Enforce a **policy**: at least 8 chars, contains a digit and a letter.  \n",
        "- Provide **specific feedback** for failures using `if/elif/else`.  \n",
        "- Use `try/except` only if you choose to add extra parsing; the main need here is decisions + while.\n",
        "\n",
        "**Tip:** Put the policy check in a **helper function** with a docstring.\n"
      ]
    },
    {
      "cell_type": "code",
      "execution_count": 1,
      "id": "cf5e5e3d",
      "metadata": {
        "id": "cf5e5e3d",
        "colab": {
          "base_uri": "https://localhost:8080/"
        },
        "outputId": "19ad439d-974e-4d70-a0d8-11c67a31d92a"
      },
      "outputs": [
        {
          "output_type": "stream",
          "name": "stdout",
          "text": [
            "What is your password? yay\n",
            "Your password must be at least 8 characters.\n",
            "What is your password? yayayayayayay\n",
            "Your password must contain at least 1 digit and 1 letter.\n",
            "What is your password? yayayayayay1\n",
            "Incorrect password.\n",
            "Too many attempts. Access denied.\n"
          ]
        }
      ],
      "source": [
        "# Your code here\n",
        "def login_sim(correct_password: str, max_attempts: int = 3):\n",
        "    attempts = 0\n",
        "\n",
        "    while attempts < max_attempts:\n",
        "        entered = input(\"What is your password? \").strip()\n",
        "        attempts += 1\n",
        "\n",
        "        if entered == \"\":\n",
        "            print(\"You must insert a password.\")\n",
        "            continue\n",
        "\n",
        "        if len(entered) < 8:\n",
        "            print(\"Your password must be at least 8 characters.\")\n",
        "            continue\n",
        "\n",
        "        has_letter = False\n",
        "        for ch in entered:\n",
        "            if ch.isalpha():\n",
        "                has_letter = True\n",
        "        has_number = False\n",
        "        for ch in entered:\n",
        "            if ch.isdigit():\n",
        "                has_number = True\n",
        "\n",
        "        if not (has_letter and has_number):\n",
        "            print(\"Your password must contain at least 1 digit and 1 letter.\")\n",
        "            continue\n",
        "\n",
        "        if entered == correct_password:\n",
        "            print(f\"Access granted! Welcome!\")\n",
        "            return\n",
        "\n",
        "        else:\n",
        "            print(\"Incorrect password.\")\n",
        "\n",
        "    print(\"Too many attempts. Access denied.\")\n",
        "\n",
        "\n",
        "# Example call:\n",
        "login_sim(\"abc12345\", 3)"
      ]
    },
    {
      "cell_type": "markdown",
      "id": "9efbc851",
      "metadata": {
        "id": "9efbc851"
      },
      "source": [
        "\n",
        "## Program 3 — Collatz Analyzer (While + Decisions)\n",
        "\n",
        "**Write:** `collatz_steps(n: int) -> int` that returns the number of steps to reach 1 using the Collatz rules:  \n",
        "- If `n` is even, `n = n // 2`  \n",
        "- Else `n = 3*n + 1`\n",
        "\n",
        "**Then write:** `collatz_report(start: int, stop: int)` that prints the number between `start` and `stop` (inclusive) with the **maximum** steps and the step count.\n",
        "\n",
        "**Requirements:**\n",
        "- Input validation with `try/except` in a wrapper `main()` that reads `start` and `stop` from the user.\n",
        "- Use a **for** loop in `collatz_report`; use a **while** loop in `collatz_steps`.\n",
        "- Use decisions appropriately.\n"
      ]
    },
    {
      "cell_type": "code",
      "execution_count": null,
      "id": "6e7a622e",
      "metadata": {
        "id": "6e7a622e",
        "colab": {
          "base_uri": "https://localhost:8080/"
        },
        "outputId": "f6e569ed-fd75-49b9-d601-d0d9bcd33ca9"
      },
      "outputs": [
        {
          "output_type": "stream",
          "name": "stdout",
          "text": [
            "Enter start (positive integer): 3\n",
            "Enter stop  (positive integer): 20\n",
            "Between 3 and 20, 18 has the maximum steps: 20\n"
          ]
        }
      ],
      "source": [
        "# your code here\n",
        "def collatz_steps(n: int) -> int:\n",
        "    \"\"\"\n",
        "    Return the number of Collatz steps required to reduce n to 1.\n",
        "    Uses: if n is even -> n //= 2; else -> n = 3*n + 1\n",
        "    Raises ValueError for n <= 0.\n",
        "    \"\"\"\n",
        "    if n <= 0:\n",
        "        raise ValueError(\"n must be a positive integer\")\n",
        "\n",
        "    steps = 0\n",
        "    while n != 1:               # while-loop requirement\n",
        "        if n % 2 == 0:          # decision: even\n",
        "            n //= 2\n",
        "        else:                   # decision: odd\n",
        "            n = 3 * n + 1\n",
        "        steps += 1\n",
        "    return steps\n",
        "\n",
        "def collatz_report(start: int, stop: int):\n",
        "    if start <= 0 or stop <= 0:\n",
        "        raise ValueError(\"start and stop must be positive integers\")\n",
        "    if start > stop:\n",
        "        raise ValueError(\"start must be <= stop\")\n",
        "\n",
        "    max_steps = -1\n",
        "    number_with_max = None\n",
        "\n",
        "    for i in range(start, stop + 1):   # for-loop requirement\n",
        "        steps = collatz_steps(i)\n",
        "        if steps > max_steps:          # update when a strictly larger step count is found\n",
        "            max_steps = steps\n",
        "            number_with_max = i\n",
        "\n",
        "    if number_with_max is None:\n",
        "        print(\"No numbers checked.\")\n",
        "    else:\n",
        "        print(f\"Between {start} and {stop}, {number_with_max} has the maximum steps: {max_steps}\")\n",
        "\n",
        "\n",
        "def main() -> None:\n",
        "    \"\"\"\n",
        "    Wrapper to read start and stop from the user with input validation (try/except).\n",
        "    Keeps asking until valid integers are supplied.\n",
        "    \"\"\"\n",
        "    while True:\n",
        "        try:\n",
        "            raw_start = input(\"Enter start (positive integer): \").strip()\n",
        "            raw_stop = input(\"Enter stop  (positive integer): \").strip()\n",
        "\n",
        "            start = int(raw_start)\n",
        "            stop = int(raw_stop)\n",
        "\n",
        "            if start <= 0 or stop <= 0:\n",
        "                raise ValueError(\"Values must be positive integers.\")\n",
        "            if start > stop:\n",
        "                raise ValueError(\"Start must be <= stop.\")\n",
        "\n",
        "            # valid input; call the report and then break out\n",
        "            collatz_report(start, stop)\n",
        "            break\n",
        "\n",
        "        except ValueError as e:\n",
        "            print(\"Invalid input:\", e)\n",
        "            print(\"Please try again.\\n\")\n",
        "\n",
        "\n",
        "if __name__ == \"__main__\":\n",
        "    main()"
      ]
    },
    {
      "cell_type": "markdown",
      "id": "c2ec00e1",
      "metadata": {
        "id": "c2ec00e1"
      },
      "source": [
        "\n",
        "## Program 4 — Grid Count (Nested Loops + Decisions)\n",
        "\n",
        "**Write:** `count_neighbors(grid: list[list[int]], r: int, c: int) -> int` that counts how many **non-zero** neighbors a cell has in the 8 surrounding positions.\n",
        "\n",
        "**Then:** `live_ratio(grid)` returns the ratio of non-zero cells to total cells.\n",
        "\n",
        "**Requirements:**\n",
        "- Use **nested `for` loops**.\n",
        "- Use decisions to guard bounds and to skip the center cell.\n",
        "- Provide 2–3 `assert` tests.\n"
      ]
    },
    {
      "cell_type": "code",
      "execution_count": null,
      "id": "daf5f519",
      "metadata": {
        "id": "daf5f519"
      },
      "outputs": [],
      "source": [
        "#Skip-didn't learn"
      ]
    },
    {
      "cell_type": "markdown",
      "id": "ecba85ff",
      "metadata": {
        "id": "ecba85ff"
      },
      "source": [
        "\n",
        "## Program 5 — Receipt Parser (While + Try/Except + Decisions)\n",
        "\n",
        "**Write:** `receipt_total()` that repeatedly reads lines like `item,quantity,price` until the user types `'done'`.  \n",
        "- Validate that `quantity` is an integer and `price` is a float.  \n",
        "- Accumulate a subtotal and print a formatted receipt at the end.  \n",
        "- Ignore malformed lines (warn and continue).\n",
        "\n",
        "**Example input:**\n",
        "```\n",
        "apple,2,1.25\n",
        "banana,3,0.60\n",
        "done\n",
        "```\n",
        "**Output end line:**\n",
        "```\n",
        "Items: 2  Units: 5  Subtotal: $3.65\n",
        "```\n"
      ]
    },
    {
      "cell_type": "code",
      "execution_count": null,
      "id": "a2880a4b",
      "metadata": {
        "id": "a2880a4b",
        "colab": {
          "base_uri": "https://localhost:8080/"
        },
        "outputId": "d5ed097e-d788-43ad-db88-fd1203bedbc3"
      },
      "outputs": [
        {
          "output_type": "stream",
          "name": "stdout",
          "text": [
            "apple,2,1,2.5\n",
            "Malformed line\n",
            "apple,2,1.25\n",
            "banana,8,1.25\n",
            "done\n",
            "Items: 2  Units: 10  Subtotal: $12.50\n"
          ]
        }
      ],
      "source": [
        "# your code here\n",
        "def receipt_total():\n",
        "    \"\"\"\n",
        "    Repeatedly reads lines like \"item,quantity,price\" until the user types 'done'.\n",
        "    Validates quantity is int and price is float. Ignores malformed lines (warns).\n",
        "    Prints final receipt line: Items: X  Units: Y  Subtotal: $Z.ZZ\n",
        "    \"\"\"\n",
        "    distinct_items = set()\n",
        "    units_total = 0\n",
        "    subtotal = 0.0\n",
        "\n",
        "    while True:\n",
        "        line = input().strip()\n",
        "        if line.lower() == 'done':\n",
        "            break\n",
        "\n",
        "        parts = line.split(',')\n",
        "        if len(parts) != 3:\n",
        "            print(f\"Malformed line\")\n",
        "            continue\n",
        "\n",
        "        item, qty_str, price_str = (p.strip() for p in parts)\n",
        "\n",
        "        # Validate quantity -> int\n",
        "        try:\n",
        "            qty = int(qty_str)\n",
        "        except ValueError:\n",
        "            print(f\"Not an integer\")\n",
        "            continue\n",
        "\n",
        "        # Validate price -> float\n",
        "        try:\n",
        "            price = float(price_str)\n",
        "        except ValueError:\n",
        "            print(f\"Invalid price (not a float)\")\n",
        "            continue\n",
        "\n",
        "        if qty < 0 or price < 0:\n",
        "            print(f\"Negative quantity or price not allowed\")\n",
        "            continue\n",
        "\n",
        "        # Accept the line\n",
        "        distinct_items.add(item)\n",
        "        units_total += qty\n",
        "        subtotal += qty * price\n",
        "\n",
        "    # Print final formatted receipt line\n",
        "    print(f\"Items: {len(distinct_items)}  Units: {units_total}  Subtotal: ${subtotal:.2f}\")\n",
        "\n",
        "\n",
        "receipt_total()\n"
      ]
    },
    {
      "cell_type": "markdown",
      "id": "96844e4c",
      "metadata": {
        "id": "96844e4c"
      },
      "source": [
        "\n",
        "## Optional Challenge — Prime Gaps (For + Decisions)\n",
        "\n",
        "Write `is_prime(n: int) -> bool` and then `max_gap(a: int, b: int) -> tuple[int,int,int]` that returns `(p, q, gap)` where `p` and `q` are consecutive primes in `[a, b]` with the **largest** gap.\n",
        "\n",
        "- Use **for** loops and decisions; keep it simple and readable.\n",
        "- Add 2–3 `assert` tests.\n"
      ]
    },
    {
      "cell_type": "markdown",
      "id": "4eddd5e9",
      "metadata": {
        "id": "4eddd5e9"
      },
      "source": [
        "\n",
        "## Submission Checklist\n",
        "- [ ] I used `while` and/or `for` appropriately for each task.\n",
        "- [ ] I validated user input with `try/except` where required.\n",
        "- [ ] I used clear names, docstrings, and helpful comments.\n",
        "- [ ] I kept lines ≤ 79–99 chars and used proper whitespace.\n",
        "- [ ] I added a few `assert` tests where appropriate.\n"
      ]
    },
    {
      "cell_type": "markdown",
      "id": "96a91da6",
      "metadata": {
        "id": "96a91da6"
      },
      "source": [
        "\n",
        "## Grading Rubric (25 pts)\n",
        "\n",
        "| Criterion | Points |\n",
        "|---|---:|\n",
        "| Program 1 — Stats loop (correctness + validation + clarity) | 6 |\n",
        "| Program 2 — Password attempts (logic + decisions + clarity) | 5 |\n",
        "| Program 3 — Collatz analyzer (while + for + validation) | 6 |\n",
        "| Program 4 — Grid count (nested loops + tests) | 5 |\n",
        "| Overall PEP 8 style & explanations | 3 |\n"
      ]
    }
  ],
  "metadata": {
    "colab": {
      "provenance": []
    },
    "language_info": {
      "name": "python"
    },
    "kernelspec": {
      "name": "python3",
      "display_name": "Python 3"
    }
  },
  "nbformat": 4,
  "nbformat_minor": 5
}